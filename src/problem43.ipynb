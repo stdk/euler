{
 "metadata": {
  "name": "",
  "signature": "sha256:3de3299258a897da47797272b7d38b203f776aee1301e0c9f40743cd11d18133"
 },
 "nbformat": 3,
 "nbformat_minor": 0,
 "worksheets": [
  {
   "cells": [
    {
     "cell_type": "code",
     "collapsed": false,
     "input": [
      "import timeit\n",
      "\n",
      "criteria = [\n",
      "    (lambda avail: avail,               lambda n: n%13==0),                           # d7\n",
      "    (lambda avail: avail & {0,5},       lambda n: n%11==0),                           # d6\n",
      "    (lambda avail: avail,               lambda n: n%7==0),                            # d5\n",
      "    (lambda avail: avail & {0,2,4,6,8}, lambda n: True),                              # d4 \n",
      "    (lambda avail: avail,               lambda n: n%3==0),                            # d3\n",
      "    (lambda avail: avail,               lambda n: True),                              # d2\n",
      "    (lambda avail: avail - {0},         lambda n: True),                              # d1   \n",
      "]\n",
      "\n",
      "def problem43():\n",
      "    numbers = []\n",
      "    basis_len = 3\n",
      "    for basis in [17*i for i in range(10**(basis_len-1)//17,10**basis_len//17+1)]:\n",
      "        digits = {basis//10**i%10 for i in range(basis_len)}\n",
      "        if len(digits) != basis_len:\n",
      "            continue\n",
      "            \n",
      "        candidates = [(basis, {i for i in range(0,10)} - digits)]\n",
      "        for r,(available_filter,check_digits) in enumerate(criteria):\n",
      "            if not candidates: break\n",
      "            candidates = [(d+d0*10**(r+basis_len),avail-{d0})\n",
      "                          for d,avail in candidates\n",
      "                          for d0 in available_filter(avail)                          \n",
      "                          if check_digits(d0*100+d//10**(r+1))]\n",
      "        numbers += [d for d,a in candidates]\n",
      "    return numbers\n",
      "\n",
      "\n",
      "timer = timeit.Timer(problem43)\n",
      "print 'Time elapsed for 10000 iterations:',timer.timeit(number=10000)\n",
      "\n",
      "numbers = problem43()\n",
      "for n in numbers:\n",
      "    print n\n",
      "print 'Sum:', sum(numbers)\n",
      "\n",
      "    \n"
     ],
     "language": "python",
     "metadata": {},
     "outputs": [
      {
       "output_type": "stream",
       "stream": "stdout",
       "text": [
        "Time elapsed: "
       ]
      },
      {
       "output_type": "stream",
       "stream": "stdout",
       "text": [
        "3.68407871069\n",
        "4160357289\n",
        "1460357289\n",
        "4106357289\n",
        "1406357289\n",
        "4130952867\n",
        "1430952867\n",
        "Sum: 16695334890\n"
       ]
      }
     ],
     "prompt_number": 14
    },
    {
     "cell_type": "code",
     "collapsed": false,
     "input": [],
     "language": "python",
     "metadata": {},
     "outputs": [],
     "prompt_number": 4
    },
    {
     "cell_type": "code",
     "collapsed": false,
     "input": [],
     "language": "python",
     "metadata": {},
     "outputs": []
    }
   ],
   "metadata": {}
  }
 ]
}
