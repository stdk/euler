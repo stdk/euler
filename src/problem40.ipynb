{
 "metadata": {
  "name": "",
  "signature": "sha256:9cc45e7403c80d4c004a95717f6c2b9d9f40fab61f07a5cb6c2d242aaa1ff612"
 },
 "nbformat": 3,
 "nbformat_minor": 0,
 "worksheets": [
  {
   "cells": [
    {
     "cell_type": "code",
     "collapsed": false,
     "input": [
      "d = iter([10**i for i in range(1,10)])\n",
      "current_position = d.next()\n",
      "end_position = 9\n",
      "product = 1\n",
      "for i in range(2,7):\n",
      "    begin = 10**(i-1)\n",
      "    end = 10**i - 1\n",
      "    count = (end-begin+1)*i\n",
      "    new_end_position = end_position + count\n",
      "    while current_position < new_end_position:\n",
      "        relative_position = current_position - end_position\n",
      "        q,r = divmod(relative_position,i)\n",
      "        digit = ((q+begin) // 10**(i-r)) % 10\n",
      "        product *= digit\n",
      "        current_position = d.next()\n",
      "    end_position = new_end_position\n",
      "print 'product',product\n",
      "    "
     ],
     "language": "python",
     "metadata": {},
     "outputs": [
      {
       "output_type": "stream",
       "stream": "stdout",
       "text": [
        "product 210\n"
       ]
      }
     ],
     "prompt_number": 24
    },
    {
     "cell_type": "code",
     "collapsed": false,
     "input": [],
     "language": "python",
     "metadata": {},
     "outputs": []
    }
   ],
   "metadata": {}
  }
 ]
}
