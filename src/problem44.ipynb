{
 "metadata": {
  "name": "",
  "signature": "sha256:9177facba6a27747b9a09cadad8664c0f4f7a45aa381da3d51a33da64dc5d8e0"
 },
 "nbformat": 3,
 "nbformat_minor": 0,
 "worksheets": [
  {
   "cells": [
    {
     "cell_type": "code",
     "collapsed": false,
     "input": [
      "def pentagon(n):\n",
      "    return n*(3*n-1)//2    \n",
      "\n",
      "def is_perfect_square(x):\n",
      "    if x < 0: return False\n",
      "    if x < 2: return True\n",
      "    a = x\n",
      "    b = (a)//2\n",
      "    while a > b:\n",
      "        a = b\n",
      "        b = (a + x//a)//2\n",
      "    if b*b == x:\n",
      "        return b\n",
      "\n",
      "def is_pentagon(x):\n",
      "    d = is_perfect_square(24*x+1)\n",
      "    if d is not None:\n",
      "        n,q = divmod(d+1,6)\n",
      "        if q==0:\n",
      "            return n\n",
      "\n",
      "def search(max_distance = 1000,max_index = 3000):\n",
      "    for distance in range(1,max_distance):\n",
      "        for x in range(1,max_index):\n",
      "            y = x + distance\n",
      "            diff = pentagon(x)\n",
      "            summ = pentagon(y)\n",
      "            first,remainder = divmod(diff+summ,2)\n",
      "            if remainder==0:\n",
      "                first_index = is_pentagon(first)\n",
      "                if first_index is not None:\n",
      "                    second = summ - first\n",
      "                    second_index = is_pentagon(second)\n",
      "                    if second_index is not None:\n",
      "                        return diff\n",
      "                    \n",
      "print search()\n",
      "                    "
     ],
     "language": "python",
     "metadata": {},
     "outputs": [
      {
       "output_type": "stream",
       "stream": "stdout",
       "text": [
        "5482660\n"
       ]
      }
     ],
     "prompt_number": 4
    },
    {
     "cell_type": "code",
     "collapsed": false,
     "input": [],
     "language": "python",
     "metadata": {},
     "outputs": []
    }
   ],
   "metadata": {}
  }
 ]
}
